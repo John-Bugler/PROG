{
 "cells": [
  {
   "cell_type": "code",
   "execution_count": null,
   "id": "faa387e5",
   "metadata": {},
   "outputs": [],
   "source": [
    "!pip install zeep"
   ]
  },
  {
   "cell_type": "code",
   "execution_count": null,
   "id": "f4d38f6c",
   "metadata": {},
   "outputs": [
    {
     "name": "stdout",
     "output_type": "stream",
     "text": [
      "=== Seznam operací a jejich vstupních parametrů ===\n",
      "\n",
      "- stavWS: ['_value_1']\n",
      "- dejMBRParcel: ['parcelaId']\n",
      "- dejInfoOJednotce: ['idJednotky', 'castObceKod', 'stavbaTypKod', 'stavbaCislo', 'jednotkaCislo']\n",
      "- dejNahledLV: ['katuzeKod', 'lvCislo', 'lvId']\n",
      "\n",
      "=== Konec seznamu ===\n"
     ]
    }
   ],
   "source": [
    "# Testovani operaci WSDP - tahani z katastru nemovitosti\n",
    "import os\n",
    "from requests import Session\n",
    "from zeep import Client\n",
    "from zeep.transports import Transport\n",
    "\n",
    "# 1) URL na WSDL („Informace o bytech a nebytových prostorech“ v2.9)\n",
    "WSDL_URL = \"https://katastr.cuzk.cz/dokumentace/ws29/wsdp/informace_v29.wsdl\"\n",
    "\n",
    "# 2) (Ne)autentizace – když máte účet pro WSDP, nastavte CUZK_USER / CUZK_PASS\n",
    "session = Session()\n",
    "user = os.getenv(\"CUZK_USER\")\n",
    "pw   = os.getenv(\"CUZK_PASS\")\n",
    "if user and pw:\n",
    "    session.auth = (user, pw)\n",
    "transport = Transport(session=session)\n",
    "\n",
    "# 3) Vytvoříme SOAP-klienta\n",
    "client = Client(wsdl=WSDL_URL, transport=transport)\n",
    "\n",
    "# 4) Vybereme první service a první port\n",
    "service = next(iter(client.wsdl.services.values()))\n",
    "port    = next(iter(service.ports.values()))\n",
    "\n",
    "# 5) Vypíšeme všechny operace a jejich parametry\n",
    "print(\"=== Seznam operací a jejich vstupních parametrů ===\\n\")\n",
    "for op_name, oper in port.binding._operations.items():\n",
    "    params = [el[0] for el in oper.input.body.type.elements]\n",
    "    print(f\"- {op_name}: {params}\")\n",
    "print(\"\\n=== Konec seznamu ===\")\n"
   ]
  },
  {
   "cell_type": "code",
   "execution_count": null,
   "id": "24df03e9",
   "metadata": {},
   "outputs": [
    {
     "ename": "Fault",
     "evalue": "Error on verifying message against security policy Error code:1000",
     "output_type": "error",
     "traceback": [
      "\u001b[1;31m---------------------------------------------------------------------------\u001b[0m",
      "\u001b[1;31mFault\u001b[0m                                     Traceback (most recent call last)",
      "Cell \u001b[1;32mIn[15], line 25\u001b[0m\n\u001b[0;32m     22\u001b[0m jednotkaCislo \u001b[38;5;241m=\u001b[39m \u001b[38;5;124m\"\u001b[39m\u001b[38;5;124m36\u001b[39m\u001b[38;5;124m\"\u001b[39m       \u001b[38;5;66;03m# číslo jednotky\u001b[39;00m\n\u001b[0;32m     24\u001b[0m \u001b[38;5;66;03m# 4) Volání operace jen s 4 parametry (bez idJednotky)\u001b[39;00m\n\u001b[1;32m---> 25\u001b[0m response \u001b[38;5;241m=\u001b[39m \u001b[43mclient\u001b[49m\u001b[38;5;241;43m.\u001b[39;49m\u001b[43mservice\u001b[49m\u001b[38;5;241;43m.\u001b[39;49m\u001b[43mdejInfoOJednotce\u001b[49m\u001b[43m(\u001b[49m\n\u001b[0;32m     26\u001b[0m \u001b[43m    \u001b[49m\u001b[43mcastObceKod\u001b[49m\u001b[43m   \u001b[49m\u001b[38;5;241;43m=\u001b[39;49m\u001b[43m \u001b[49m\u001b[43mcastObceKod\u001b[49m\u001b[43m,\u001b[49m\n\u001b[0;32m     27\u001b[0m \u001b[43m    \u001b[49m\u001b[43mstavbaTypKod\u001b[49m\u001b[43m  \u001b[49m\u001b[38;5;241;43m=\u001b[39;49m\u001b[43m \u001b[49m\u001b[43mstavbaTypKod\u001b[49m\u001b[43m,\u001b[49m\n\u001b[0;32m     28\u001b[0m \u001b[43m    \u001b[49m\u001b[43mstavbaCislo\u001b[49m\u001b[43m   \u001b[49m\u001b[38;5;241;43m=\u001b[39;49m\u001b[43m \u001b[49m\u001b[43mstavbaCislo\u001b[49m\u001b[43m,\u001b[49m\n\u001b[0;32m     29\u001b[0m \u001b[43m    \u001b[49m\u001b[43mjednotkaCislo\u001b[49m\u001b[43m \u001b[49m\u001b[38;5;241;43m=\u001b[39;49m\u001b[43m \u001b[49m\u001b[43mjednotkaCislo\u001b[49m\n\u001b[0;32m     30\u001b[0m \u001b[43m)\u001b[49m\n\u001b[0;32m     32\u001b[0m \u001b[38;5;66;03m# 5) Zpracování odpovědi\u001b[39;00m\n\u001b[0;32m     33\u001b[0m basis \u001b[38;5;241m=\u001b[39m \u001b[38;5;28mgetattr\u001b[39m(response, \u001b[38;5;124m\"\u001b[39m\u001b[38;5;124mzakladJednotky\u001b[39m\u001b[38;5;124m\"\u001b[39m, \u001b[38;5;28;01mNone\u001b[39;00m) \u001b[38;5;129;01mor\u001b[39;00m \u001b[38;5;28mgetattr\u001b[39m(response, \u001b[38;5;124m\"\u001b[39m\u001b[38;5;124mZakladJednotky\u001b[39m\u001b[38;5;124m\"\u001b[39m, \u001b[38;5;28;01mNone\u001b[39;00m)\n",
      "File \u001b[1;32m~\\AppData\\Roaming\\Python\\Python312\\site-packages\\zeep\\proxy.py:46\u001b[0m, in \u001b[0;36mOperationProxy.__call__\u001b[1;34m(self, *args, **kwargs)\u001b[0m\n\u001b[0;32m     43\u001b[0m \u001b[38;5;28;01mif\u001b[39;00m soap_headers:\n\u001b[0;32m     44\u001b[0m     kwargs[\u001b[38;5;124m\"\u001b[39m\u001b[38;5;124m_soapheaders\u001b[39m\u001b[38;5;124m\"\u001b[39m] \u001b[38;5;241m=\u001b[39m soap_headers\n\u001b[1;32m---> 46\u001b[0m \u001b[38;5;28;01mreturn\u001b[39;00m \u001b[38;5;28;43mself\u001b[39;49m\u001b[38;5;241;43m.\u001b[39;49m\u001b[43m_proxy\u001b[49m\u001b[38;5;241;43m.\u001b[39;49m\u001b[43m_binding\u001b[49m\u001b[38;5;241;43m.\u001b[39;49m\u001b[43msend\u001b[49m\u001b[43m(\u001b[49m\n\u001b[0;32m     47\u001b[0m \u001b[43m    \u001b[49m\u001b[38;5;28;43mself\u001b[39;49m\u001b[38;5;241;43m.\u001b[39;49m\u001b[43m_proxy\u001b[49m\u001b[38;5;241;43m.\u001b[39;49m\u001b[43m_client\u001b[49m\u001b[43m,\u001b[49m\n\u001b[0;32m     48\u001b[0m \u001b[43m    \u001b[49m\u001b[38;5;28;43mself\u001b[39;49m\u001b[38;5;241;43m.\u001b[39;49m\u001b[43m_proxy\u001b[49m\u001b[38;5;241;43m.\u001b[39;49m\u001b[43m_binding_options\u001b[49m\u001b[43m,\u001b[49m\n\u001b[0;32m     49\u001b[0m \u001b[43m    \u001b[49m\u001b[38;5;28;43mself\u001b[39;49m\u001b[38;5;241;43m.\u001b[39;49m\u001b[43m_op_name\u001b[49m\u001b[43m,\u001b[49m\n\u001b[0;32m     50\u001b[0m \u001b[43m    \u001b[49m\u001b[43margs\u001b[49m\u001b[43m,\u001b[49m\n\u001b[0;32m     51\u001b[0m \u001b[43m    \u001b[49m\u001b[43mkwargs\u001b[49m\u001b[43m,\u001b[49m\n\u001b[0;32m     52\u001b[0m \u001b[43m\u001b[49m\u001b[43m)\u001b[49m\n",
      "File \u001b[1;32m~\\AppData\\Roaming\\Python\\Python312\\site-packages\\zeep\\wsdl\\bindings\\soap.py:135\u001b[0m, in \u001b[0;36mSoapBinding.send\u001b[1;34m(self, client, options, operation, args, kwargs)\u001b[0m\n\u001b[0;32m    132\u001b[0m \u001b[38;5;28;01mif\u001b[39;00m client\u001b[38;5;241m.\u001b[39msettings\u001b[38;5;241m.\u001b[39mraw_response:\n\u001b[0;32m    133\u001b[0m     \u001b[38;5;28;01mreturn\u001b[39;00m response\n\u001b[1;32m--> 135\u001b[0m \u001b[38;5;28;01mreturn\u001b[39;00m \u001b[38;5;28;43mself\u001b[39;49m\u001b[38;5;241;43m.\u001b[39;49m\u001b[43mprocess_reply\u001b[49m\u001b[43m(\u001b[49m\u001b[43mclient\u001b[49m\u001b[43m,\u001b[49m\u001b[43m \u001b[49m\u001b[43moperation_obj\u001b[49m\u001b[43m,\u001b[49m\u001b[43m \u001b[49m\u001b[43mresponse\u001b[49m\u001b[43m)\u001b[49m\n",
      "File \u001b[1;32m~\\AppData\\Roaming\\Python\\Python312\\site-packages\\zeep\\wsdl\\bindings\\soap.py:229\u001b[0m, in \u001b[0;36mSoapBinding.process_reply\u001b[1;34m(self, client, operation, response)\u001b[0m\n\u001b[0;32m    227\u001b[0m fault_node \u001b[38;5;241m=\u001b[39m doc\u001b[38;5;241m.\u001b[39mfind(\u001b[38;5;124m\"\u001b[39m\u001b[38;5;124msoap-env:Body/soap-env:Fault\u001b[39m\u001b[38;5;124m\"\u001b[39m, namespaces\u001b[38;5;241m=\u001b[39m\u001b[38;5;28mself\u001b[39m\u001b[38;5;241m.\u001b[39mnsmap)\n\u001b[0;32m    228\u001b[0m \u001b[38;5;28;01mif\u001b[39;00m response\u001b[38;5;241m.\u001b[39mstatus_code \u001b[38;5;241m!=\u001b[39m \u001b[38;5;241m200\u001b[39m \u001b[38;5;129;01mor\u001b[39;00m fault_node \u001b[38;5;129;01mis\u001b[39;00m \u001b[38;5;129;01mnot\u001b[39;00m \u001b[38;5;28;01mNone\u001b[39;00m:\n\u001b[1;32m--> 229\u001b[0m     \u001b[38;5;28;01mreturn\u001b[39;00m \u001b[38;5;28;43mself\u001b[39;49m\u001b[38;5;241;43m.\u001b[39;49m\u001b[43mprocess_error\u001b[49m\u001b[43m(\u001b[49m\u001b[43mdoc\u001b[49m\u001b[43m,\u001b[49m\u001b[43m \u001b[49m\u001b[43moperation\u001b[49m\u001b[43m)\u001b[49m\n\u001b[0;32m    231\u001b[0m result \u001b[38;5;241m=\u001b[39m operation\u001b[38;5;241m.\u001b[39mprocess_reply(doc)\n\u001b[0;32m    233\u001b[0m \u001b[38;5;28;01mif\u001b[39;00m message_pack:\n",
      "File \u001b[1;32m~\\AppData\\Roaming\\Python\\Python312\\site-packages\\zeep\\wsdl\\bindings\\soap.py:329\u001b[0m, in \u001b[0;36mSoap11Binding.process_error\u001b[1;34m(self, doc, operation)\u001b[0m\n\u001b[0;32m    326\u001b[0m     \u001b[38;5;28;01mif\u001b[39;00m child \u001b[38;5;129;01mis\u001b[39;00m \u001b[38;5;129;01mnot\u001b[39;00m \u001b[38;5;28;01mNone\u001b[39;00m:\n\u001b[0;32m    327\u001b[0m         \u001b[38;5;28;01mreturn\u001b[39;00m child\u001b[38;5;241m.\u001b[39mtext\n\u001b[1;32m--> 329\u001b[0m \u001b[38;5;28;01mraise\u001b[39;00m Fault(\n\u001b[0;32m    330\u001b[0m     message\u001b[38;5;241m=\u001b[39mget_text(\u001b[38;5;124m\"\u001b[39m\u001b[38;5;124mfaultstring\u001b[39m\u001b[38;5;124m\"\u001b[39m),\n\u001b[0;32m    331\u001b[0m     code\u001b[38;5;241m=\u001b[39mget_text(\u001b[38;5;124m\"\u001b[39m\u001b[38;5;124mfaultcode\u001b[39m\u001b[38;5;124m\"\u001b[39m),\n\u001b[0;32m    332\u001b[0m     actor\u001b[38;5;241m=\u001b[39mget_text(\u001b[38;5;124m\"\u001b[39m\u001b[38;5;124mfaultactor\u001b[39m\u001b[38;5;124m\"\u001b[39m),\n\u001b[0;32m    333\u001b[0m     detail\u001b[38;5;241m=\u001b[39mfault_node\u001b[38;5;241m.\u001b[39mfind(\u001b[38;5;124m\"\u001b[39m\u001b[38;5;124mdetail\u001b[39m\u001b[38;5;124m\"\u001b[39m, namespaces\u001b[38;5;241m=\u001b[39mfault_node\u001b[38;5;241m.\u001b[39mnsmap),\n\u001b[0;32m    334\u001b[0m )\n",
      "\u001b[1;31mFault\u001b[0m: Error on verifying message against security policy Error code:1000"
     ]
    }
   ],
   "source": [
    "# Tahání informací k bytům - evidence dle zákona o vlastnictví bytů (ZBV) a podle občanského zákoníku (NOZ)\n",
    "# vyžaduje účet a je zpoplatněno \n",
    "\n",
    "\n",
    "import os\n",
    "from requests import Session\n",
    "from zeep import Client\n",
    "from zeep.transports import Transport\n",
    "from zeep.wsse.username import UsernameToken\n",
    "\n",
    "# === 1) Nastavení přístupu ===\n",
    "# WSDL pro Informace o bytech a nebytových prostorech (v2.9)\n",
    "WSDL_URL = \"https://katastr.cuzk.cz/dokumentace/ws29/wsdp/informace_v29.wsdl\"\n",
    "\n",
    "# Přihlášení do WSDP (nutné pro WS-Security)\n",
    "user   = os.getenv(\"CUZK_USER\", \"VAŠE_UŽIV_JMÉNO\")\n",
    "passwd = os.getenv(\"CUZK_PASS\", \"VAŠE_HESLO\")\n",
    "\n",
    "# HTTP transport (použijeme ale WSSE pro autentizaci)\n",
    "session = Session()\n",
    "transport = Transport(session=session)\n",
    "\n",
    "# === 2) Vytvoření Zeep klienta s WS-Security UsernameToken ===\n",
    "client = Client(\n",
    "    wsdl=WSDL_URL,\n",
    "    transport=transport,\n",
    "    wsse=UsernameToken(user, passwd)\n",
    ")\n",
    "\n",
    "# === 3) Hard-coded testovací hodnoty ===\n",
    "castObceKod   = \"755541\"   # kód k.ú.\n",
    "stavbaTypKod  = \"P\"        # 'P'=popisné / 'E'=evidenční\n",
    "stavbaCislo   = \"1817\"     # číslo budovy\n",
    "jednotkaCislo = \"36\"       # číslo jednotky\n",
    "\n",
    "# === 4) Volání operace dejInfoOJednotce ===\n",
    "response = client.service.dejInfoOJednotce(\n",
    "    castObceKod   = castObceKod,\n",
    "    stavbaTypKod  = stavbaTypKod,\n",
    "    stavbaCislo   = stavbaCislo,\n",
    "    jednotkaCislo = jednotkaCislo\n",
    ")\n",
    "\n",
    "# === 5) Vytažení zakladJednotky ===\n",
    "basis = getattr(response, \"zakladJednotky\", None) or getattr(response, \"ZakladJednotky\", None)\n",
    "\n",
    "if basis == \"ZBV\":\n",
    "    print(\"✔ Evidováno podle zákona o vlastnictví bytů (ZBV).\")\n",
    "elif basis == \"NOZ\":\n",
    "    print(\"✔ Evidováno podle občanského zákoníku (NOZ).\")\n",
    "else:\n",
    "    print(f\"⚠ Neočekávaná hodnota zakladJednotky: {basis!r}\")\n"
   ]
  }
 ],
 "metadata": {
  "kernelspec": {
   "display_name": "Python 3",
   "language": "python",
   "name": "python3"
  },
  "language_info": {
   "codemirror_mode": {
    "name": "ipython",
    "version": 3
   },
   "file_extension": ".py",
   "mimetype": "text/x-python",
   "name": "python",
   "nbconvert_exporter": "python",
   "pygments_lexer": "ipython3",
   "version": "3.12.0"
  }
 },
 "nbformat": 4,
 "nbformat_minor": 5
}
