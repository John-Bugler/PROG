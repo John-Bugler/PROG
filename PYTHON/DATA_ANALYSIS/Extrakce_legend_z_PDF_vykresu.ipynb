{
 "cells": [
  {
   "cell_type": "code",
   "execution_count": null,
   "id": "917ef221",
   "metadata": {},
   "outputs": [
    {
     "name": "stdout",
     "output_type": "stream",
     "text": [
      "c:\\Program Files\\Python312\\python.exe\n"
     ]
    }
   ],
   "source": [
    "import sys\n",
    "print(sys.executable)\n",
    "\n",
    "#& \"C:\\Program Files\\Python312\\python.exe\" -m pip install pdfplumber\n",
    "#& \"C:\\Program Files\\Python312\\python.exe\" -m pip install camelot\n",
    "#& \"C:\\Program Files\\Python312\\python.exe\" -m pip install camelot-py[cv] pdfplumber pandas openpyxl"
   ]
  },
  {
   "cell_type": "code",
   "execution_count": 12,
   "id": "be1033db",
   "metadata": {},
   "outputs": [
    {
     "name": "stderr",
     "output_type": "stream",
     "text": [
      "CropBox missing from /Page, defaulting to MediaBox\n",
      "CropBox missing from /Page, defaulting to MediaBox\n",
      "CropBox missing from /Page, defaulting to MediaBox\n"
     ]
    },
    {
     "name": "stdout",
     "output_type": "stream",
     "text": [
      "✅ Uloženo: C:\\Users\\ijttr\\OneDrive\\Dokumenty\\PROG\\PYTHON\\DATA_ANALYSIS\\PD\\dur_nkb_d01_01_4-3pp_230600.xlsx\n"
     ]
    },
    {
     "name": "stderr",
     "output_type": "stream",
     "text": [
      "CropBox missing from /Page, defaulting to MediaBox\n",
      "CropBox missing from /Page, defaulting to MediaBox\n"
     ]
    },
    {
     "name": "stdout",
     "output_type": "stream",
     "text": [
      "✅ Uloženo: C:\\Users\\ijttr\\OneDrive\\Dokumenty\\PROG\\PYTHON\\DATA_ANALYSIS\\PD\\dur_nkb_d01_02_2pp_230600.xlsx\n"
     ]
    },
    {
     "name": "stderr",
     "output_type": "stream",
     "text": [
      "CropBox missing from /Page, defaulting to MediaBox\n",
      "CropBox missing from /Page, defaulting to MediaBox\n"
     ]
    },
    {
     "name": "stdout",
     "output_type": "stream",
     "text": [
      "✅ Uloženo: C:\\Users\\ijttr\\OneDrive\\Dokumenty\\PROG\\PYTHON\\DATA_ANALYSIS\\PD\\dur_nkb_d01_03_1pp_230600.xlsx\n"
     ]
    },
    {
     "name": "stderr",
     "output_type": "stream",
     "text": [
      "CropBox missing from /Page, defaulting to MediaBox\n"
     ]
    },
    {
     "name": "stdout",
     "output_type": "stream",
     "text": [
      "✅ Uloženo: C:\\Users\\ijttr\\OneDrive\\Dokumenty\\PROG\\PYTHON\\DATA_ANALYSIS\\PD\\dur_nkb_d01_04_a1pp_230600.xlsx\n",
      "Hotovo – Excely jsou ve složce: C:\\Users\\ijttr\\OneDrive\\Dokumenty\\PROG\\PYTHON\\DATA_ANALYSIS\\PD\n"
     ]
    }
   ],
   "source": [
    "import os\n",
    "import re\n",
    "import pdfplumber\n",
    "import pandas as pd\n",
    "# Directory containing uploaded PDFs\n",
    "\n",
    "INPUT_DIR  =  r'C:\\Users\\ijttr\\OneDrive\\Dokumenty\\PROG\\PYTHON\\DATA_ANALYSIS\\PD'\n",
    "OUTPUT_DIR = INPUT_DIR\n",
    "os.makedirs(OUTPUT_DIR, exist_ok=True)\n",
    "\n",
    "\n",
    "\n",
    "# Regex: kód = písmeno + možná tečka/pomlčka + 1–3 číslic\n",
    "# Descr = 1–100 znaků (lenivě), pak číslo s desetinnou čárkou/tečkou\n",
    "PATTERN = re.compile(\n",
    "    r'([A-Z])[.\\-]?\\s*(\\d{1,3})'      # 1: sekce, 2: číslo\n",
    "    r'[\\s–\\-:]*'                      # možný oddělovač\n",
    "    r'(.{5,100}?)'                    # 3: popis místnosti (5–100 znaků)\n",
    "    r'(\\d{1,4}[.,]\\d{1,2})'           # 4: výměra\n",
    "    , re.DOTALL | re.IGNORECASE\n",
    ")\n",
    "\n",
    "def extract_from_pdf(path):\n",
    "    text = \"\"\n",
    "    with pdfplumber.open(path) as pdf:\n",
    "        for p in pdf.pages:\n",
    "            text += p.extract_text() or \"\" + \"\\n\"\n",
    "    matches = PATTERN.finditer(text)\n",
    "    rows = []\n",
    "    for m in matches:\n",
    "        sect, num, desc, area = m.groups()\n",
    "        code = f\"{sect.upper()}.{int(num):03d}\"\n",
    "        desc = re.sub(r'\\s+', ' ', desc).strip()\n",
    "        area_f = float(area.replace(',', '.'))\n",
    "        rows.append([code, desc, area_f])\n",
    "    return rows\n",
    "\n",
    "def process_pdf(pdf_path):\n",
    "    name = os.path.splitext(os.path.basename(pdf_path))[0]\n",
    "    rows = extract_from_pdf(pdf_path)\n",
    "    if not rows:\n",
    "        print(f\"⚠️ V {name}.pdf jsem nic nenašel.\")\n",
    "        return\n",
    "    \n",
    "    df = pd.DataFrame(rows, columns=['Číslo místnosti','Účel místnosti','Výmera (m²)'])\n",
    "    \n",
    "    # Seřazení\n",
    "    df[['Sekce','Číslo']] = df['Číslo místnosti'].str.split('.', expand=True)\n",
    "    df['Číslo'] = df['Číslo'].astype(int)\n",
    "    df = df.sort_values(['Sekce','Číslo']).drop(columns=['Sekce','Číslo'])\n",
    "    \n",
    "    # Desetinná čárka\n",
    "    df['Výmera (m²)'] = df['Výmera (m²)'].map(lambda x: f\"{x:.1f}\".replace('.', ','))\n",
    "    \n",
    "    out = os.path.join(OUTPUT_DIR, f\"{name}.xlsx\")\n",
    "    df.to_excel(out, index=False)\n",
    "    print(f\"✅ Uloženo: {out}\")\n",
    "\n",
    "if __name__ == '__main__':\n",
    "    for fn in os.listdir(INPUT_DIR):\n",
    "        if fn.lower().endswith('.pdf'):\n",
    "            process_pdf(os.path.join(INPUT_DIR, fn))\n",
    "    print(\"Hotovo – Excely jsou ve složce:\", OUTPUT_DIR)\n",
    "\n"
   ]
  }
 ],
 "metadata": {
  "kernelspec": {
   "display_name": "Python 3",
   "language": "python",
   "name": "python3"
  },
  "language_info": {
   "codemirror_mode": {
    "name": "ipython",
    "version": 3
   },
   "file_extension": ".py",
   "mimetype": "text/x-python",
   "name": "python",
   "nbconvert_exporter": "python",
   "pygments_lexer": "ipython3",
   "version": "3.12.0"
  }
 },
 "nbformat": 4,
 "nbformat_minor": 5
}
