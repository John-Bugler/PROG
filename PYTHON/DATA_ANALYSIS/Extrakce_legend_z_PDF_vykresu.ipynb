{
 "cells": [
  {
   "cell_type": "code",
   "execution_count": null,
   "id": "917ef221",
   "metadata": {},
   "outputs": [
    {
     "name": "stdout",
     "output_type": "stream",
     "text": [
      "c:\\Program Files\\Python312\\python.exe\n"
     ]
    }
   ],
   "source": [
    "import sys\n",
    "print(sys.executable)\n",
    "\n",
    "#& \"C:\\Program Files\\Python312\\python.exe\" -m pip install pdfplumber\n",
    "#& \"C:\\Program Files\\Python312\\python.exe\" -m pip install camelot\n",
    "#& \"C:\\Program Files\\Python312\\python.exe\" -m pip install camelot-py[cv] pdfplumber pandas openpyxl"
   ]
  },
  {
   "cell_type": "code",
   "execution_count": 21,
   "id": "be1033db",
   "metadata": {},
   "outputs": [
    {
     "name": "stderr",
     "output_type": "stream",
     "text": [
      "CropBox missing from /Page, defaulting to MediaBox\n",
      "CropBox missing from /Page, defaulting to MediaBox\n",
      "CropBox missing from /Page, defaulting to MediaBox\n"
     ]
    },
    {
     "name": "stdout",
     "output_type": "stream",
     "text": [
      "⚠️  dur_nkb_d01_01_4-3pp_230600: nenašel jsem žádné řádky legendy.\n"
     ]
    },
    {
     "name": "stderr",
     "output_type": "stream",
     "text": [
      "CropBox missing from /Page, defaulting to MediaBox\n",
      "CropBox missing from /Page, defaulting to MediaBox\n"
     ]
    },
    {
     "name": "stdout",
     "output_type": "stream",
     "text": [
      "⚠️  dur_nkb_d01_02_2pp_230600: nenašel jsem žádné řádky legendy.\n"
     ]
    },
    {
     "name": "stderr",
     "output_type": "stream",
     "text": [
      "CropBox missing from /Page, defaulting to MediaBox\n",
      "CropBox missing from /Page, defaulting to MediaBox\n"
     ]
    },
    {
     "name": "stdout",
     "output_type": "stream",
     "text": [
      "⚠️  dur_nkb_d01_03_1pp_230600: nenašel jsem žádné řádky legendy.\n"
     ]
    },
    {
     "name": "stderr",
     "output_type": "stream",
     "text": [
      "CropBox missing from /Page, defaulting to MediaBox\n"
     ]
    },
    {
     "name": "stdout",
     "output_type": "stream",
     "text": [
      "⚠️  dur_nkb_d01_04_a1pp_230600: nenašel jsem žádné řádky legendy.\n",
      "🎉 Hotovo – všechny Excel soubory jsou ve složce: C:\\Users\\ijttr\\OneDrive\\Dokumenty\\PROG\\PYTHON\\DATA_ANALYSIS\\PD\n"
     ]
    }
   ],
   "source": [
    "import os\n",
    "import re\n",
    "import pdfplumber\n",
    "import pandas as pd\n",
    "from tabula.io import read_pdf  # správný import\n",
    "\n",
    "# 1) Cesty\n",
    "INPUT_DIR  =  r'C:\\Users\\ijttr\\OneDrive\\Dokumenty\\PROG\\PYTHON\\DATA_ANALYSIS\\PD'\n",
    "OUTPUT_DIR = INPUT_DIR\n",
    "os.makedirs(OUTPUT_DIR, exist_ok=True)\n",
    "\n",
    "\n",
    "# ====== Regex pro extrakci ======\n",
    "# ^([A-Z])   : sekce písmeno\n",
    "# [.\\-]?     : volitelně tečka nebo pomlčka\n",
    "# (\\d{1,3})  : číslo místnosti 1–3 číslic\n",
    "# \\s+        : mezera\n",
    "# (.+?)      : účel místnosti (lenivě, dokud nenarazí na ...)\n",
    "# \\s+        : mezera\n",
    "# (\\d{1,4},\\d{1,2})$ : výměra (1–4 číslic, čárka, 1–2 číslice) a konec řádku\n",
    "LINE_RX = re.compile(\n",
    "    r'^([A-Z])[.\\-]?(\\d{1,3})\\s+(.+?)\\s+(\\d{1,4},\\d{1,2})$',\n",
    "    re.MULTILINE\n",
    ")\n",
    "\n",
    "def extract_rooms_from_pdf(pdf_path):\n",
    "    \"\"\"Vytáhne všechny řádky legendy místností z PDF jako seznam [kód, účel, výměra].\"\"\"\n",
    "    text_chunks = []\n",
    "    with pdfplumber.open(pdf_path) as pdf:\n",
    "        for page in pdf.pages:\n",
    "            t = page.extract_text()\n",
    "            if t:\n",
    "                text_chunks.append(t)\n",
    "    full_text = \"\\n\".join(text_chunks)\n",
    "    \n",
    "    rows = []\n",
    "    for m in LINE_RX.finditer(full_text):\n",
    "        sect, num, purpose, area = m.groups()\n",
    "        code = f\"{sect.upper()}.{int(num):03d}\"\n",
    "        purpose = re.sub(r'\\s+', ' ', purpose).strip()\n",
    "        rows.append([code, purpose, area])\n",
    "    return rows\n",
    "\n",
    "def process_pdf(pdf_path):\n",
    "    \"\"\"Zpracuje jedno PDF, vytvoří DataFrame a uloží do XLSX.\"\"\"\n",
    "    pdf_name = os.path.splitext(os.path.basename(pdf_path))[0]\n",
    "    rows = extract_rooms_from_pdf(pdf_path)\n",
    "    \n",
    "    if not rows:\n",
    "        print(f\"⚠️  {pdf_name}: nenašel jsem žádné řádky legendy.\")\n",
    "        return\n",
    "    \n",
    "    df = pd.DataFrame(rows, columns=['Číslo místnosti','Účel místnosti','Výmera (m²)'])\n",
    "    \n",
    "    # Seřadíme podle sekce a čísla\n",
    "    df[['Sekce','Číslo']] = df['Číslo místnosti'].str.split('.', expand=True)\n",
    "    df['Číslo'] = df['Číslo'].astype(int)\n",
    "    df = df.sort_values(['Sekce','Číslo']).drop(columns=['Sekce','Číslo'])\n",
    "    \n",
    "    # Ujistíme se, že výměra je formát x,y\n",
    "    df['Výmera (m²)'] = df['Výmera (m²)'].map(lambda x: \n",
    "        f\"{float(x.replace(',','.')):.1f}\".replace('.',',')\n",
    "    )\n",
    "    \n",
    "    out_path = os.path.join(OUTPUT_DIR, f\"{pdf_name}.xlsx\")\n",
    "    df.to_excel(out_path, index=False)\n",
    "    print(f\"✅ Uloženo: {out_path}\")\n",
    "\n",
    "if __name__ == '__main__':\n",
    "    for fname in os.listdir(INPUT_DIR):\n",
    "        if fname.lower().endswith('.pdf'):\n",
    "            process_pdf(os.path.join(INPUT_DIR, fname))\n",
    "    print(\"🎉 Hotovo – všechny Excel soubory jsou ve složce:\", OUTPUT_DIR)\n"
   ]
  }
 ],
 "metadata": {
  "kernelspec": {
   "display_name": "Python 3",
   "language": "python",
   "name": "python3"
  },
  "language_info": {
   "codemirror_mode": {
    "name": "ipython",
    "version": 3
   },
   "file_extension": ".py",
   "mimetype": "text/x-python",
   "name": "python",
   "nbconvert_exporter": "python",
   "pygments_lexer": "ipython3",
   "version": "3.12.0"
  }
 },
 "nbformat": 4,
 "nbformat_minor": 5
}
